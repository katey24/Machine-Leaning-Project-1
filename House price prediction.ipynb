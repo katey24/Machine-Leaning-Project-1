{
 "cells": [
  {
   "cell_type": "code",
   "execution_count": 123,
   "id": "cc65bcd5",
   "metadata": {},
   "outputs": [],
   "source": [
    "import pandas as pd\n",
    "import numpy as np\n",
    "import seaborn as sns\n",
    "import matplotlib.pyplot as plt\n",
    "from sklearn import linear_model\n"
   ]
  },
  {
   "cell_type": "code",
   "execution_count": 127,
   "id": "2f7863ce",
   "metadata": {},
   "outputs": [],
   "source": [
    "#import the dataset \n",
    "dataset = pd.read_csv('E:\\machine learning\\exercises\\housing.csv')  \n"
   ]
  },
  {
   "cell_type": "code",
   "execution_count": 128,
   "id": "4c578ec0",
   "metadata": {},
   "outputs": [
    {
     "data": {
      "text/html": [
       "<div>\n",
       "<style scoped>\n",
       "    .dataframe tbody tr th:only-of-type {\n",
       "        vertical-align: middle;\n",
       "    }\n",
       "\n",
       "    .dataframe tbody tr th {\n",
       "        vertical-align: top;\n",
       "    }\n",
       "\n",
       "    .dataframe thead th {\n",
       "        text-align: right;\n",
       "    }\n",
       "</style>\n",
       "<table border=\"1\" class=\"dataframe\">\n",
       "  <thead>\n",
       "    <tr style=\"text-align: right;\">\n",
       "      <th></th>\n",
       "      <th>Avg. Area Income</th>\n",
       "      <th>Avg. Area House Age</th>\n",
       "      <th>Avg. Area Number of Rooms</th>\n",
       "      <th>Avg. Area Number of Bedrooms</th>\n",
       "      <th>Area Population</th>\n",
       "      <th>Price</th>\n",
       "      <th>Address</th>\n",
       "    </tr>\n",
       "  </thead>\n",
       "  <tbody>\n",
       "    <tr>\n",
       "      <th>0</th>\n",
       "      <td>79545.45857</td>\n",
       "      <td>5.682861</td>\n",
       "      <td>7.009188</td>\n",
       "      <td>4.09</td>\n",
       "      <td>23086.80050</td>\n",
       "      <td>1.059034e+06</td>\n",
       "      <td>208 Michael Ferry Apt. 674\\nLaurabury, NE 3701...</td>\n",
       "    </tr>\n",
       "    <tr>\n",
       "      <th>1</th>\n",
       "      <td>79248.64245</td>\n",
       "      <td>6.002900</td>\n",
       "      <td>6.730821</td>\n",
       "      <td>3.09</td>\n",
       "      <td>40173.07217</td>\n",
       "      <td>1.505891e+06</td>\n",
       "      <td>188 Johnson Views Suite 079\\nLake Kathleen, CA...</td>\n",
       "    </tr>\n",
       "    <tr>\n",
       "      <th>2</th>\n",
       "      <td>61287.06718</td>\n",
       "      <td>5.865890</td>\n",
       "      <td>8.512727</td>\n",
       "      <td>5.13</td>\n",
       "      <td>36882.15940</td>\n",
       "      <td>1.058988e+06</td>\n",
       "      <td>9127 Elizabeth Stravenue\\nDanieltown, WI 06482...</td>\n",
       "    </tr>\n",
       "    <tr>\n",
       "      <th>3</th>\n",
       "      <td>63345.24005</td>\n",
       "      <td>7.188236</td>\n",
       "      <td>5.586729</td>\n",
       "      <td>3.26</td>\n",
       "      <td>34310.24283</td>\n",
       "      <td>1.260617e+06</td>\n",
       "      <td>USS Barnett\\nFPO AP 44820</td>\n",
       "    </tr>\n",
       "    <tr>\n",
       "      <th>4</th>\n",
       "      <td>59982.19723</td>\n",
       "      <td>5.040555</td>\n",
       "      <td>7.839388</td>\n",
       "      <td>4.23</td>\n",
       "      <td>26354.10947</td>\n",
       "      <td>6.309435e+05</td>\n",
       "      <td>USNS Raymond\\nFPO AE 09386</td>\n",
       "    </tr>\n",
       "  </tbody>\n",
       "</table>\n",
       "</div>"
      ],
      "text/plain": [
       "   Avg. Area Income  Avg. Area House Age  Avg. Area Number of Rooms  \\\n",
       "0       79545.45857             5.682861                   7.009188   \n",
       "1       79248.64245             6.002900                   6.730821   \n",
       "2       61287.06718             5.865890                   8.512727   \n",
       "3       63345.24005             7.188236                   5.586729   \n",
       "4       59982.19723             5.040555                   7.839388   \n",
       "\n",
       "   Avg. Area Number of Bedrooms  Area Population         Price  \\\n",
       "0                          4.09      23086.80050  1.059034e+06   \n",
       "1                          3.09      40173.07217  1.505891e+06   \n",
       "2                          5.13      36882.15940  1.058988e+06   \n",
       "3                          3.26      34310.24283  1.260617e+06   \n",
       "4                          4.23      26354.10947  6.309435e+05   \n",
       "\n",
       "                                             Address  \n",
       "0  208 Michael Ferry Apt. 674\\nLaurabury, NE 3701...  \n",
       "1  188 Johnson Views Suite 079\\nLake Kathleen, CA...  \n",
       "2  9127 Elizabeth Stravenue\\nDanieltown, WI 06482...  \n",
       "3                          USS Barnett\\nFPO AP 44820  \n",
       "4                         USNS Raymond\\nFPO AE 09386  "
      ]
     },
     "execution_count": 128,
     "metadata": {},
     "output_type": "execute_result"
    }
   ],
   "source": [
    "#explore the dataset (i)\n",
    "dataset.head()\n"
   ]
  },
  {
   "cell_type": "code",
   "execution_count": 129,
   "id": "31db70de",
   "metadata": {},
   "outputs": [
    {
     "data": {
      "text/plain": [
       "(5000, 7)"
      ]
     },
     "execution_count": 129,
     "metadata": {},
     "output_type": "execute_result"
    }
   ],
   "source": [
    "#explore the dataset. view the total number of columns and rows(ii)\n",
    "dataset.shape"
   ]
  },
  {
   "cell_type": "code",
   "execution_count": 130,
   "id": "47ba8ba9",
   "metadata": {},
   "outputs": [
    {
     "data": {
      "text/plain": [
       "Avg. Area Income                5000\n",
       "Avg. Area House Age             5000\n",
       "Avg. Area Number of Rooms       4998\n",
       "Avg. Area Number of Bedrooms     255\n",
       "Area Population                 5000\n",
       "Price                           5000\n",
       "Address                         5000\n",
       "dtype: int64"
      ]
     },
     "execution_count": 130,
     "metadata": {},
     "output_type": "execute_result"
    }
   ],
   "source": [
    "#explore the dataset. view the unique values (iii)\n",
    "dataset.nunique()"
   ]
  },
  {
   "cell_type": "code",
   "execution_count": 46,
   "id": "b32328af",
   "metadata": {},
   "outputs": [],
   "source": [
    "#remane the columns\n",
    "dataset = dataset.rename(columns = {'Avg. Area Income':'Income', 'Avg. Area House Age':'HouseAge', 'Avg. Area Number of Rooms':'No_of_rooms',\n",
    "                         'Avg. Area Number of Bedrooms':'No_of_bedrooms',})"
   ]
  },
  {
   "cell_type": "code",
   "execution_count": 47,
   "id": "bf80f615",
   "metadata": {},
   "outputs": [
    {
     "data": {
      "text/plain": [
       "Income             0\n",
       "HouseAge           0\n",
       "No_of_rooms        2\n",
       "No_of_bedrooms     0\n",
       "Area Population    0\n",
       "Price              0\n",
       "Address            0\n",
       "dtype: int64"
      ]
     },
     "execution_count": 47,
     "metadata": {},
     "output_type": "execute_result"
    }
   ],
   "source": [
    "#data preprocessing to check for NA values\n",
    "dataset.isna().sum()"
   ]
  },
  {
   "cell_type": "code",
   "execution_count": 48,
   "id": "8e03784b",
   "metadata": {},
   "outputs": [
    {
     "data": {
      "text/plain": [
       "Income             0\n",
       "HouseAge           0\n",
       "No_of_rooms        0\n",
       "No_of_bedrooms     0\n",
       "Area Population    0\n",
       "Price              0\n",
       "Address            0\n",
       "dtype: int64"
      ]
     },
     "execution_count": 48,
     "metadata": {},
     "output_type": "execute_result"
    }
   ],
   "source": [
    "#deal with the two NA values for the number_of_rooms.\n",
    "#fill the NA with the average values since a house cant have  rooms\n",
    "dataset['No_of_rooms'] = dataset['No_of_rooms'].fillna(dataset.No_of_rooms.mean())\n",
    "dataset.isna().sum()\n"
   ]
  },
  {
   "cell_type": "code",
   "execution_count": 74,
   "id": "3d0f4389",
   "metadata": {},
   "outputs": [
    {
     "data": {
      "text/html": [
       "<div>\n",
       "<style scoped>\n",
       "    .dataframe tbody tr th:only-of-type {\n",
       "        vertical-align: middle;\n",
       "    }\n",
       "\n",
       "    .dataframe tbody tr th {\n",
       "        vertical-align: top;\n",
       "    }\n",
       "\n",
       "    .dataframe thead th {\n",
       "        text-align: right;\n",
       "    }\n",
       "</style>\n",
       "<table border=\"1\" class=\"dataframe\">\n",
       "  <thead>\n",
       "    <tr style=\"text-align: right;\">\n",
       "      <th></th>\n",
       "      <th>HouseAge</th>\n",
       "      <th>No_of_rooms</th>\n",
       "      <th>No_of_bedrooms</th>\n",
       "      <th>Price</th>\n",
       "    </tr>\n",
       "  </thead>\n",
       "  <tbody>\n",
       "    <tr>\n",
       "      <th>0</th>\n",
       "      <td>5.682861</td>\n",
       "      <td>7.009188</td>\n",
       "      <td>4.09</td>\n",
       "      <td>1.059034e+06</td>\n",
       "    </tr>\n",
       "    <tr>\n",
       "      <th>1</th>\n",
       "      <td>6.002900</td>\n",
       "      <td>6.730821</td>\n",
       "      <td>3.09</td>\n",
       "      <td>1.505891e+06</td>\n",
       "    </tr>\n",
       "    <tr>\n",
       "      <th>2</th>\n",
       "      <td>5.865890</td>\n",
       "      <td>8.512727</td>\n",
       "      <td>5.13</td>\n",
       "      <td>1.058988e+06</td>\n",
       "    </tr>\n",
       "    <tr>\n",
       "      <th>3</th>\n",
       "      <td>7.188236</td>\n",
       "      <td>5.586729</td>\n",
       "      <td>3.26</td>\n",
       "      <td>1.260617e+06</td>\n",
       "    </tr>\n",
       "    <tr>\n",
       "      <th>4</th>\n",
       "      <td>5.040555</td>\n",
       "      <td>7.839388</td>\n",
       "      <td>4.23</td>\n",
       "      <td>6.309435e+05</td>\n",
       "    </tr>\n",
       "  </tbody>\n",
       "</table>\n",
       "</div>"
      ],
      "text/plain": [
       "   HouseAge  No_of_rooms  No_of_bedrooms         Price\n",
       "0  5.682861     7.009188            4.09  1.059034e+06\n",
       "1  6.002900     6.730821            3.09  1.505891e+06\n",
       "2  5.865890     8.512727            5.13  1.058988e+06\n",
       "3  7.188236     5.586729            3.26  1.260617e+06\n",
       "4  5.040555     7.839388            4.23  6.309435e+05"
      ]
     },
     "execution_count": 74,
     "metadata": {},
     "output_type": "execute_result"
    }
   ],
   "source": [
    "#from visual observation, we can drop the Income, Address and Area Population columns since it will not \n",
    "#provide useful information in price determination in the same region\n",
    "cdataset = dataset.drop(['Area Population', 'Address', 'Income'], axis = 'columns')\n",
    "cdataset.head()"
   ]
  },
  {
   "cell_type": "code",
   "execution_count": 75,
   "id": "bf1323df",
   "metadata": {},
   "outputs": [
    {
     "data": {
      "text/html": [
       "<div>\n",
       "<style scoped>\n",
       "    .dataframe tbody tr th:only-of-type {\n",
       "        vertical-align: middle;\n",
       "    }\n",
       "\n",
       "    .dataframe tbody tr th {\n",
       "        vertical-align: top;\n",
       "    }\n",
       "\n",
       "    .dataframe thead th {\n",
       "        text-align: right;\n",
       "    }\n",
       "</style>\n",
       "<table border=\"1\" class=\"dataframe\">\n",
       "  <thead>\n",
       "    <tr style=\"text-align: right;\">\n",
       "      <th></th>\n",
       "      <th>HouseAge</th>\n",
       "      <th>No_of_rooms</th>\n",
       "      <th>No_of_bedrooms</th>\n",
       "      <th>Price</th>\n",
       "    </tr>\n",
       "  </thead>\n",
       "  <tbody>\n",
       "    <tr>\n",
       "      <th>0</th>\n",
       "      <td>5.682861</td>\n",
       "      <td>7.009188</td>\n",
       "      <td>4.09</td>\n",
       "      <td>1.059034e+06</td>\n",
       "    </tr>\n",
       "    <tr>\n",
       "      <th>1</th>\n",
       "      <td>6.002900</td>\n",
       "      <td>6.730821</td>\n",
       "      <td>3.09</td>\n",
       "      <td>1.505891e+06</td>\n",
       "    </tr>\n",
       "    <tr>\n",
       "      <th>2</th>\n",
       "      <td>5.865890</td>\n",
       "      <td>8.512727</td>\n",
       "      <td>5.13</td>\n",
       "      <td>1.058988e+06</td>\n",
       "    </tr>\n",
       "    <tr>\n",
       "      <th>3</th>\n",
       "      <td>7.188236</td>\n",
       "      <td>5.586729</td>\n",
       "      <td>3.26</td>\n",
       "      <td>1.260617e+06</td>\n",
       "    </tr>\n",
       "    <tr>\n",
       "      <th>4</th>\n",
       "      <td>5.040555</td>\n",
       "      <td>7.839388</td>\n",
       "      <td>4.23</td>\n",
       "      <td>6.309435e+05</td>\n",
       "    </tr>\n",
       "  </tbody>\n",
       "</table>\n",
       "</div>"
      ],
      "text/plain": [
       "   HouseAge  No_of_rooms  No_of_bedrooms         Price\n",
       "0  5.682861     7.009188            4.09  1.059034e+06\n",
       "1  6.002900     6.730821            3.09  1.505891e+06\n",
       "2  5.865890     8.512727            5.13  1.058988e+06\n",
       "3  7.188236     5.586729            3.26  1.260617e+06\n",
       "4  5.040555     7.839388            4.23  6.309435e+05"
      ]
     },
     "execution_count": 75,
     "metadata": {},
     "output_type": "execute_result"
    }
   ],
   "source": [
    "#X = cdataset[['Income', 'HouseAge', 'No_of_rooms', 'No_of_bedrooms']]\n",
    "#Y = cdataset.Price\n",
    "cdataset.head()"
   ]
  },
  {
   "cell_type": "code",
   "execution_count": 78,
   "id": "68a770a5",
   "metadata": {},
   "outputs": [
    {
     "data": {
      "text/plain": [
       "Text(0.5, 1.0, 'Housing Price KPIs')"
      ]
     },
     "execution_count": 78,
     "metadata": {},
     "output_type": "execute_result"
    },
    {
     "data": {
      "image/png": "[encoded data removed]",
      "text/plain": [
       "<Figure size 432x288 with 1 Axes>"
      ]
     },
     "metadata": {
      "needs_background": "light"
     },
     "output_type": "display_data"
    }
   ],
   "source": [
    "#visulize using matplot\n",
    "plt.scatter(cdataset.HouseAge, cdataset.Price, marker='+', color = 'red')\n",
    "plt.xlabel('house age')\n",
    "plt.ylabel('House Price')\n",
    "plt.title('Housing Price KPIs')"
   ]
  },
  {
   "cell_type": "code",
   "execution_count": 83,
   "id": "52014bd2",
   "metadata": {},
   "outputs": [
    {
     "data": {
      "text/plain": [
       "<AxesSubplot:xlabel='HouseAge', ylabel='Price'>"
      ]
     },
     "execution_count": 83,
     "metadata": {},
     "output_type": "execute_result"
    },
    {
     "data": {
      "image/png": "[encoded data removed]",
      "text/plain": [
       "<Figure size 432x288 with 1 Axes>"
      ]
     },
     "metadata": {
      "needs_background": "light"
     },
     "output_type": "display_data"
    }
   ],
   "source": [
    "#visulize using seaborn\n",
    "sns.scatterplot(data=cdataset, x=cdataset.HouseAge, y=cdataset.Price, marker='+')\n"
   ]
  },
  {
   "cell_type": "code",
   "execution_count": 89,
   "id": "d5480631",
   "metadata": {},
   "outputs": [
    {
     "data": {
      "text/html": [
       "<div>\n",
       "<style scoped>\n",
       "    .dataframe tbody tr th:only-of-type {\n",
       "        vertical-align: middle;\n",
       "    }\n",
       "\n",
       "    .dataframe tbody tr th {\n",
       "        vertical-align: top;\n",
       "    }\n",
       "\n",
       "    .dataframe thead th {\n",
       "        text-align: right;\n",
       "    }\n",
       "</style>\n",
       "<table border=\"1\" class=\"dataframe\">\n",
       "  <thead>\n",
       "    <tr style=\"text-align: right;\">\n",
       "      <th></th>\n",
       "      <th>HouseAge</th>\n",
       "      <th>No_of_rooms</th>\n",
       "      <th>No_of_bedrooms</th>\n",
       "      <th>Price</th>\n",
       "    </tr>\n",
       "  </thead>\n",
       "  <tbody>\n",
       "    <tr>\n",
       "      <th>HouseAge</th>\n",
       "      <td>1.000000</td>\n",
       "      <td>-0.009309</td>\n",
       "      <td>0.006149</td>\n",
       "      <td>0.452543</td>\n",
       "    </tr>\n",
       "    <tr>\n",
       "      <th>No_of_rooms</th>\n",
       "      <td>-0.009309</td>\n",
       "      <td>1.000000</td>\n",
       "      <td>0.462626</td>\n",
       "      <td>0.335566</td>\n",
       "    </tr>\n",
       "    <tr>\n",
       "      <th>No_of_bedrooms</th>\n",
       "      <td>0.006149</td>\n",
       "      <td>0.462626</td>\n",
       "      <td>1.000000</td>\n",
       "      <td>0.171071</td>\n",
       "    </tr>\n",
       "    <tr>\n",
       "      <th>Price</th>\n",
       "      <td>0.452543</td>\n",
       "      <td>0.335566</td>\n",
       "      <td>0.171071</td>\n",
       "      <td>1.000000</td>\n",
       "    </tr>\n",
       "  </tbody>\n",
       "</table>\n",
       "</div>"
      ],
      "text/plain": [
       "                HouseAge  No_of_rooms  No_of_bedrooms     Price\n",
       "HouseAge        1.000000    -0.009309        0.006149  0.452543\n",
       "No_of_rooms    -0.009309     1.000000        0.462626  0.335566\n",
       "No_of_bedrooms  0.006149     0.462626        1.000000  0.171071\n",
       "Price           0.452543     0.335566        0.171071  1.000000"
      ]
     },
     "execution_count": 89,
     "metadata": {},
     "output_type": "execute_result"
    }
   ],
   "source": [
    "c = cdataset\n",
    "c.corr()\n"
   ]
  },
  {
   "cell_type": "code",
   "execution_count": 103,
   "id": "9e957416",
   "metadata": {
    "scrolled": true
   },
   "outputs": [
    {
     "data": {
      "text/plain": [
       "<AxesSubplot:>"
      ]
     },
     "execution_count": 103,
     "metadata": {},
     "output_type": "execute_result"
    },
    {
     "data": {
      "image/png": "[encoded data removed]",
      "text/plain": [
       "<Figure size 432x288 with 2 Axes>"
      ]
     },
     "metadata": {
      "needs_background": "light"
     },
     "output_type": "display_data"
    }
   ],
   "source": [
    "#we visualize the correlation between the variables using a seaborn heatmap\n",
    "#1.0 represents higher influence between the coupled variables, 0.0 represents small influence\n",
    "#positive values show linear correlation, negative values show inversely correlated\n",
    "sns.heatmap(c.corr(), cmap ='RdBu', annot=True)"
   ]
  },
  {
   "cell_type": "code",
   "execution_count": 104,
   "id": "d5096ffc",
   "metadata": {},
   "outputs": [],
   "source": [
    "#now split our data into train and testing sets\n",
    "from sklearn.model_selection import train_test_split"
   ]
  },
  {
   "cell_type": "code",
   "execution_count": 119,
   "id": "b60b5ef9",
   "metadata": {},
   "outputs": [],
   "source": [
    "x_train, x_test, y_train, y_test = train_test_split(cdataset[['HouseAge','No_of_rooms', 'No_of_bedrooms']],\n",
    "                                                    cdataset.Price, test_size=0.2)"
   ]
  },
  {
   "cell_type": "code",
   "execution_count": 120,
   "id": "7bb1837f",
   "metadata": {},
   "outputs": [
    {
     "data": {
      "text/plain": [
       "LinearRegression()"
      ]
     },
     "execution_count": 120,
     "metadata": {},
     "output_type": "execute_result"
    }
   ],
   "source": [
    "#train out model for house price prediction\n",
    "mymodel = linear_model.LinearRegression()\n",
    "mymodel.fit(cdataset[['HouseAge','No_of_rooms', 'No_of_bedrooms']], cdataset.Price)"
   ]
  },
  {
   "cell_type": "code",
   "execution_count": 121,
   "id": "87f81707",
   "metadata": {},
   "outputs": [
    {
     "data": {
      "text/plain": [
       "array([3149707.5906697])"
      ]
     },
     "execution_count": 121,
     "metadata": {},
     "output_type": "execute_result"
    }
   ],
   "source": [
    "#test the prediction of our model\n",
    "#give model HouseAge(20),No_of_rooms(4) and No_of_bedrooms(2)\n",
    "mymodel.predict([[20,4,2]])"
   ]
  },
  {
   "cell_type": "code",
   "execution_count": 122,
   "id": "2f1b4cb6",
   "metadata": {},
   "outputs": [
    {
     "data": {
      "text/plain": [
       "0.33015427823394916"
      ]
     },
     "execution_count": 122,
     "metadata": {},
     "output_type": "execute_result"
    }
   ],
   "source": [
    "#evaluate the performance of the model\n",
    "mymodel.score(x_test, y_test)"
   ]
  },
  {
   "cell_type": "code",
   "execution_count": 116,
   "id": "24712f4e",
   "metadata": {},
   "outputs": [
    {
     "data": {
      "text/plain": [
       "0.310142005172382"
      ]
     },
     "execution_count": 116,
     "metadata": {},
     "output_type": "execute_result"
    }
   ],
   "source": [
    "mymodel.score(x_train, y_train)"
   ]
  },
  {
   "cell_type": "code",
   "execution_count": 118,
   "id": "74df249d",
   "metadata": {},
   "outputs": [],
   "source": [
    "#visulize using seaborn\n",
    "#sns.scatterplot(data=mymodel, x=cdataset.HouseAge, y=cdataset.Price, marker='+')"
   ]
  },
  {
   "cell_type": "code",
   "execution_count": null,
   "id": "b1fefe4c",
   "metadata": {},
   "outputs": [],
   "source": []
  }
 ],
 "metadata": {
  "kernelspec": {
   "display_name": "Python 3 (ipykernel)",
   "language": "python",
   "name": "python3"
  },
  "language_info": {
   "codemirror_mode": {
    "name": "ipython",
    "version": 3
   },
   "file_extension": ".py",
   "mimetype": "text/x-python",
   "name": "python",
   "nbconvert_exporter": "python",
   "pygments_lexer": "ipython3",
   "version": "3.9.7"
  }
 },
 "nbformat": 4,
 "nbformat_minor": 5
}
